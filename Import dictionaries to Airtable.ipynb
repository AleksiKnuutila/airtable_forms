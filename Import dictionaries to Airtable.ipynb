{
 "cells": [
  {
   "cell_type": "code",
   "execution_count": 1,
   "metadata": {},
   "outputs": [],
   "source": [
    "import os\n",
    "\n",
    "from airtable import Airtable\n",
    "import pandas as pd\n",
    "import numpy as np\n",
    "import seaborn as sns\n",
    "\n",
    "from airtable_forms.common import config"
   ]
  },
  {
   "cell_type": "markdown",
   "metadata": {},
   "source": [
    "# Make one dataframe with all CSV files"
   ]
  },
  {
   "cell_type": "code",
   "execution_count": 2,
   "metadata": {},
   "outputs": [
    {
     "output_type": "execute_result",
     "data": {
      "text/plain": "['Brazil_2018_dictionary.csv',\n 'EU_2019_dictionary.csv',\n 'UK_2019_dictionary.csv',\n 'UK_2017_dictionary.csv',\n 'Germany_2017_dictionary.csv',\n 'Mexico_2018_dictionary.csv',\n 'Sweden_2018_dictionary.csv',\n 'US_Midterm_2018_dictionary.csv']"
     },
     "metadata": {},
     "execution_count": 2
    }
   ],
   "source": [
    "os.listdir('dictionaries')"
   ]
  },
  {
   "cell_type": "code",
   "execution_count": 12,
   "metadata": {},
   "outputs": [],
   "source": [
    "def read_dict(fn):\n",
    "    df = pd.read_csv('dictionaries/'+fn, keep_default_na=False, na_values=['_'])\n",
    "    df['dictionary'] = fn.replace('_dictionary.csv','').replace('_', ' ')\n",
    "    return df\n",
    "\n",
    "dfs = [ read_dict(x) for x in os.listdir('dictionaries') ]\n",
    "df = pd.concat(dfs)"
   ]
  },
  {
   "cell_type": "markdown",
   "metadata": {},
   "source": [
    "# Quick cleanup"
   ]
  },
  {
   "cell_type": "code",
   "execution_count": 13,
   "metadata": {},
   "outputs": [
    {
     "output_type": "execute_result",
     "data": {
      "text/plain": "                                               base_url code       dictionary\n2512                                     trendsmap.com   SSA          EU 2019\n1831  signon.thomsonreuters.com?productid=plcuk&view...   PN          UK 2017\n51             block.fiverr.com?url=l3myl2mwmjy2nda2zmy  SSA      Sweden 2018\n52             block.fiverr.com?url=l3mylzcxy2ewmjfin2y  SSA      Sweden 2018\n97    block.fiverr.com?url=l2fzaglrbw9yztevyw1hem9ul...  SSA  US Midterm 2018\n98             block.fiverr.com?url=l3mylzdlnziymgy4yza  SSA  US Midterm 2018\n99             block.fiverr.com?url=l3mylzq0nwq1mznhmwq  SSA  US Midterm 2018\n914   vote.gop?utm_source=twitter_gop&utm_medium=soc...   PP  US Midterm 2018",
      "text/html": "<div>\n<style scoped>\n    .dataframe tbody tr th:only-of-type {\n        vertical-align: middle;\n    }\n\n    .dataframe tbody tr th {\n        vertical-align: top;\n    }\n\n    .dataframe thead th {\n        text-align: right;\n    }\n</style>\n<table border=\"1\" class=\"dataframe\">\n  <thead>\n    <tr style=\"text-align: right;\">\n      <th></th>\n      <th>base_url</th>\n      <th>code</th>\n      <th>dictionary</th>\n    </tr>\n  </thead>\n  <tbody>\n    <tr>\n      <th>2512</th>\n      <td>trendsmap.com</td>\n      <td>SSA</td>\n      <td>EU 2019</td>\n    </tr>\n    <tr>\n      <th>1831</th>\n      <td>signon.thomsonreuters.com?productid=plcuk&amp;view...</td>\n      <td>PN</td>\n      <td>UK 2017</td>\n    </tr>\n    <tr>\n      <th>51</th>\n      <td>block.fiverr.com?url=l3myl2mwmjy2nda2zmy</td>\n      <td>SSA</td>\n      <td>Sweden 2018</td>\n    </tr>\n    <tr>\n      <th>52</th>\n      <td>block.fiverr.com?url=l3mylzcxy2ewmjfin2y</td>\n      <td>SSA</td>\n      <td>Sweden 2018</td>\n    </tr>\n    <tr>\n      <th>97</th>\n      <td>block.fiverr.com?url=l2fzaglrbw9yztevyw1hem9ul...</td>\n      <td>SSA</td>\n      <td>US Midterm 2018</td>\n    </tr>\n    <tr>\n      <th>98</th>\n      <td>block.fiverr.com?url=l3mylzdlnziymgy4yza</td>\n      <td>SSA</td>\n      <td>US Midterm 2018</td>\n    </tr>\n    <tr>\n      <th>99</th>\n      <td>block.fiverr.com?url=l3mylzq0nwq1mznhmwq</td>\n      <td>SSA</td>\n      <td>US Midterm 2018</td>\n    </tr>\n    <tr>\n      <th>914</th>\n      <td>vote.gop?utm_source=twitter_gop&amp;utm_medium=soc...</td>\n      <td>PP</td>\n      <td>US Midterm 2018</td>\n    </tr>\n  </tbody>\n</table>\n</div>"
     },
     "metadata": {},
     "execution_count": 13
    }
   ],
   "source": [
    "df[df['base_url'].str.contains(r'[^-a-z0-9.]')]"
   ]
  },
  {
   "cell_type": "code",
   "execution_count": 14,
   "metadata": {},
   "outputs": [],
   "source": [
    "df = df[~df['base_url'].str.contains(r'[^-a-z0-9.]')]"
   ]
  },
  {
   "cell_type": "code",
   "execution_count": 15,
   "metadata": {},
   "outputs": [
    {
     "output_type": "execute_result",
     "data": {
      "text/plain": "Empty DataFrame\nColumns: [base_url, code, dictionary]\nIndex: []",
      "text/html": "<div>\n<style scoped>\n    .dataframe tbody tr th:only-of-type {\n        vertical-align: middle;\n    }\n\n    .dataframe tbody tr th {\n        vertical-align: top;\n    }\n\n    .dataframe thead th {\n        text-align: right;\n    }\n</style>\n<table border=\"1\" class=\"dataframe\">\n  <thead>\n    <tr style=\"text-align: right;\">\n      <th></th>\n      <th>base_url</th>\n      <th>code</th>\n      <th>dictionary</th>\n    </tr>\n  </thead>\n  <tbody>\n  </tbody>\n</table>\n</div>"
     },
     "metadata": {},
     "execution_count": 15
    }
   ],
   "source": [
    "df[pd.isna(df['code'])]"
   ]
  },
  {
   "cell_type": "markdown",
   "metadata": {},
   "source": [
    "# Some descriptive stats"
   ]
  },
  {
   "cell_type": "code",
   "execution_count": 16,
   "metadata": {},
   "outputs": [
    {
     "output_type": "execute_result",
     "data": {
      "text/plain": "10737"
     },
     "metadata": {},
     "execution_count": 16
    }
   ],
   "source": [
    "len(df)"
   ]
  },
  {
   "cell_type": "code",
   "execution_count": 17,
   "metadata": {},
   "outputs": [
    {
     "output_type": "execute_result",
     "data": {
      "text/plain": "EU 2019            2796\nUK 2017            2437\nGermany 2017       1736\nUK 2019            1235\nUS Midterm 2018     981\nBrazil 2018         532\nMexico 2018         515\nSweden 2018         505\nName: dictionary, dtype: int64"
     },
     "metadata": {},
     "execution_count": 17
    }
   ],
   "source": [
    "df['dictionary'].value_counts()"
   ]
  },
  {
   "cell_type": "code",
   "execution_count": 18,
   "metadata": {},
   "outputs": [
    {
     "output_type": "execute_result",
     "data": {
      "text/plain": "CC     1998\nPN2    1278\nJN      898\nPP      775\nPN      766\nPN1     689\nOTN     678\nOP      608\nL       557\nPN3     512\nG       348\nSSA     290\nEX      280\nOTP     145\nSM      130\nSHC     122\nRE       94\nNA       76\nPB       75\nLI       66\nFP       65\nRU       64\nPH       63\nTB       63\nLS       39\nSF       26\nCL       18\nPM        8\nWL        6\nName: code, dtype: int64"
     },
     "metadata": {},
     "execution_count": 18
    }
   ],
   "source": [
    "df['code'].value_counts()"
   ]
  },
  {
   "cell_type": "code",
   "execution_count": 19,
   "metadata": {},
   "outputs": [
    {
     "output_type": "execute_result",
     "data": {
      "text/plain": "instagram.com         9\nnytimes.com           8\nreuters.com           8\nopen.spotify.com      8\npscp.tv               8\nchange.org            8\nbbc.com               8\nmsn.com               7\ntheguardian.com       7\nspreaker.com          7\nmailchi.mp            7\nft.com                7\npbs.twimg.com         7\namazon.com            7\ngoogle.com            7\nmobile.twitter.com    7\ntwitter.com           7\npaper.li              7\nmedium.com            7\nwashingtonpost.com    7\nsoundcloud.com        7\nvimeo.com             7\nen.m.wikipedia.org    6\nbloomberg.com         6\nzerohedge.com         6\nflickr.com            6\nwsj.com               6\nsputniknews.com       6\nlinkedin.com          6\ncnbc.com              6\nitunes.apple.com      6\ndailymail.co.uk       6\nfoxnews.com           6\nm.facebook.com        6\ngofundme.com          6\ndrive.google.com      6\nindependent.co.uk     6\nbreitbart.com         6\nfacebook.com          6\nvice.com              6\nyoutube.com           6\napnews.com            6\ndocs.google.com       6\nplay.google.com       6\nen.wikipedia.org      6\nrt.com                6\nName: base_url, dtype: int64"
     },
     "metadata": {},
     "execution_count": 19
    }
   ],
   "source": [
    "vc = df['base_url'].value_counts()\n",
    "vc[vc>5]"
   ]
  },
  {
   "cell_type": "code",
   "execution_count": 20,
   "metadata": {},
   "outputs": [
    {
     "output_type": "execute_result",
     "data": {
      "text/plain": "1    7741\n2     905\n3     162\n4      71\n6      24\n5      22\n7      15\n8       6\n9       1\nName: 0, dtype: int64"
     },
     "metadata": {},
     "execution_count": 20
    }
   ],
   "source": [
    "pd.DataFrame(vc.values)[0].value_counts()"
   ]
  },
  {
   "cell_type": "code",
   "execution_count": 21,
   "metadata": {},
   "outputs": [
    {
     "output_type": "execute_result",
     "data": {
      "text/plain": "8947"
     },
     "metadata": {},
     "execution_count": 21
    }
   ],
   "source": [
    "len(df['base_url'].unique())"
   ]
  },
  {
   "cell_type": "markdown",
   "metadata": {},
   "source": [
    "# Import dictionaries (called \"Projects\" for now)"
   ]
  },
  {
   "cell_type": "code",
   "execution_count": 10,
   "metadata": {},
   "outputs": [],
   "source": [
    "airtable = Airtable(config[\"base-key\"], \"Projects\", api_key=config[\"api-key\"])"
   ]
  },
  {
   "cell_type": "code",
   "execution_count": 15,
   "metadata": {},
   "outputs": [
    {
     "output_type": "execute_result",
     "data": {
      "text/plain": "array(['Brazil 2018', 'EU 2019', 'UK 2019', 'UK 2017', 'Germany 2017',\n       'Mexico 2018', 'Sweden 2018', 'US Midterm 2018'], dtype=object)"
     },
     "metadata": {},
     "execution_count": 15
    }
   ],
   "source": [
    "dicts = df['dictionary'].unique()\n",
    "dicts"
   ]
  },
  {
   "cell_type": "code",
   "execution_count": 16,
   "metadata": {},
   "outputs": [],
   "source": [
    "for d in dicts:\n",
    "    airtable.insert({'Name':d})"
   ]
  },
  {
   "cell_type": "markdown",
   "metadata": {},
   "source": [
    "# Import categories"
   ]
  },
  {
   "cell_type": "code",
   "execution_count": 22,
   "metadata": {},
   "outputs": [],
   "source": [
    "airtable = Airtable(config[\"base-key\"], \"Categories\", api_key=config[\"api-key\"])"
   ]
  },
  {
   "cell_type": "code",
   "metadata": {},
   "source": [
    "df.groupby('code')['dictionary'].unique()"
   ],
   "execution_count": 23,
   "outputs": [
    {
     "output_type": "execute_result",
     "data": {
      "text/plain": "code\nCC     [Brazil 2018, EU 2019, UK 2019, UK 2017, Germa...\nCL     [Brazil 2018, EU 2019, UK 2019, Mexico 2018, S...\nEX     [Brazil 2018, EU 2019, UK 2019, UK 2017, Germa...\nFP     [Brazil 2018, EU 2019, UK 2019, Mexico 2018, S...\nG      [Brazil 2018, EU 2019, UK 2019, UK 2017, Germa...\nJN     [Brazil 2018, EU 2019, UK 2019, UK 2017, Germa...\nL      [Brazil 2018, EU 2019, UK 2019, UK 2017, Germa...\nLI     [Brazil 2018, EU 2019, UK 2019, Mexico 2018, S...\nLS     [Brazil 2018, EU 2019, UK 2019, Mexico 2018, U...\nNA     [Brazil 2018, Germany 2017, Mexico 2018, Swede...\nOP     [Brazil 2018, EU 2019, UK 2019, UK 2017, Germa...\nOTN    [Brazil 2018, EU 2019, UK 2019, UK 2017, Germa...\nOTP    [Brazil 2018, EU 2019, UK 2019, Mexico 2018, S...\nPB      [Brazil 2018, EU 2019, Mexico 2018, Sweden 2018]\nPH     [EU 2019, UK 2019, UK 2017, Germany 2017, Mexi...\nPM                               [UK 2017, Germany 2017]\nPN     [Brazil 2018, UK 2017, Germany 2017, Mexico 20...\nPN1    [Brazil 2018, EU 2019, UK 2019, Mexico 2018, S...\nPN2    [Brazil 2018, EU 2019, UK 2019, UK 2017, Germa...\nPN3    [Brazil 2018, EU 2019, UK 2019, Mexico 2018, S...\nPP     [Brazil 2018, EU 2019, UK 2019, UK 2017, Germa...\nRE     [Brazil 2018, EU 2019, UK 2019, UK 2017, Germa...\nRU     [Brazil 2018, EU 2019, UK 2019, UK 2017, Germa...\nSF     [Brazil 2018, EU 2019, Mexico 2018, US Midterm...\nSHC    [Brazil 2018, EU 2019, UK 2019, Mexico 2018, S...\nSM     [Brazil 2018, EU 2019, UK 2019, UK 2017, Germa...\nSSA    [Brazil 2018, EU 2019, UK 2019, Mexico 2018, S...\nTB     [Brazil 2018, EU 2019, UK 2019, Mexico 2018, S...\nWL                            [EU 2019, US Midterm 2018]\nName: dictionary, dtype: object"
     },
     "metadata": {},
     "execution_count": 23
    }
   ]
  },
  {
   "cell_type": "code",
   "execution_count": 24,
   "metadata": {},
   "outputs": [],
   "source": [
    "for code, dicts in df.groupby('code')['dictionary'].unique().items():\n",
    "    airtable.insert({'Code': code, 'Project': list(dicts)}, typecast=True)"
   ]
  },
  {
   "cell_type": "markdown",
   "metadata": {},
   "source": [
    "# Import sources (base_urls)"
   ]
  },
  {
   "cell_type": "code",
   "execution_count": 46,
   "metadata": {},
   "outputs": [],
   "source": [
    "airtable = Airtable(config[\"base-key\"], \"Sources\", api_key=config[\"api-key\"])"
   ]
  },
  {
   "cell_type": "code",
   "execution_count": 66,
   "metadata": {},
   "outputs": [
    {
     "output_type": "execute_result",
     "data": {
      "text/plain": "array(['abuladomercado.com.br', 'ac24horas.com', 'acoluna.co', ...,\n       'yourperceptionisnotreality.wordpress.com', 'yourvoiceamerica.tv',\n       'yvonneforcongress.com'], dtype=object)"
     },
     "metadata": {},
     "execution_count": 66
    }
   ],
   "source": [
    "df['base_url'].unique()"
   ]
  },
  {
   "cell_type": "code",
   "execution_count": 67,
   "metadata": {},
   "outputs": [],
   "source": [
    "for source in df['base_url'].unique():\n",
    "    airtable.insert({'Base URL': source})"
   ]
  },
  {
   "cell_type": "markdown",
   "metadata": {},
   "source": [
    "# Insert coding decisions"
   ]
  },
  {
   "cell_type": "code",
   "execution_count": 25,
   "metadata": {},
   "outputs": [],
   "source": [
    "airtable = Airtable(config[\"base-key\"], \"Coding decisions\", api_key=config[\"api-key\"])"
   ]
  },
  {
   "cell_type": "code",
   "execution_count": null,
   "metadata": {},
   "outputs": [],
   "source": [
    "for idx, row in df.iterrows():\n",
    "    airtable.insert(\n",
    "        {'Source': row['base_url'], 'Category': row['code'], 'Project': row['dictionary']},\n",
    "        typecast=True\n",
    "    )"
   ]
  },
  {
   "cell_type": "code",
   "execution_count": null,
   "metadata": {},
   "outputs": [],
   "source": []
  }
 ],
 "metadata": {
  "language_info": {
   "codemirror_mode": {
    "name": "ipython",
    "version": 3
   },
   "file_extension": ".py",
   "mimetype": "text/x-python",
   "name": "python",
   "nbconvert_exporter": "python",
   "pygments_lexer": "ipython3",
   "version": "3.7.6-final"
  },
  "orig_nbformat": 2,
  "kernelspec": {
   "name": "python37664bitvenvvenv8da05913255e49a7ac27a7c3afabc77e",
   "display_name": "Python 3.7.6 64-bit ('venv': venv)"
  }
 },
 "nbformat": 4,
 "nbformat_minor": 2
}